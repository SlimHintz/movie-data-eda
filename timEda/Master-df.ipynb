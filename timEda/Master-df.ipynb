{
 "cells": [
  {
   "cell_type": "markdown",
   "metadata": {},
   "source": [
    "## Master\n",
    "\n",
    "So far we have found that the inforamtion that we need is scattered accross multiple data frames. In order to do meaningful analysis we must concatenate these data bases togeter. Really, All we need for a \n",
    "\n",
    "### movies data base:\n",
    "\n",
    "- year and month of release\n",
    "- popularity\n",
    "- number of votes\n",
    "- tconst\n",
    "- countries released in\n",
    "- number of screens released onto\n",
    "- social media buzz\n",
    "- total number of awards\n",
    "- studio released\n",
    "\n",
    "### Stars data base:\n",
    "\n",
    "- nconst\n",
    "- tconst (list)\n",
    "- birthyear (int)\n",
    "- awards\n",
    "    - oscars \n",
    "    - golden globes\n",
    "- social media buzz\n",
    "\n",
    "### awards data base:\n",
    "- tconst\n",
    "- total awards\n",
    "- nconst\n"
   ]
  },
  {
   "cell_type": "markdown",
   "metadata": {},
   "source": [
    "Ulitmately what we want to do I find the top three most important factors in determining a studios success.\n",
    "\n",
    "So we need have each movie tagged by the studio. "
   ]
  }
 ],
 "metadata": {
  "kernelspec": {
   "display_name": "Python 3",
   "language": "python",
   "name": "python3"
  },
  "language_info": {
   "codemirror_mode": {
    "name": "ipython",
    "version": 3
   },
   "file_extension": ".py",
   "mimetype": "text/x-python",
   "name": "python",
   "nbconvert_exporter": "python",
   "pygments_lexer": "ipython3",
   "version": "3.6.9"
  }
 },
 "nbformat": 4,
 "nbformat_minor": 4
}
