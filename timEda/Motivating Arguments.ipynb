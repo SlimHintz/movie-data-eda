{
 "cells": [
  {
   "cell_type": "markdown",
   "metadata": {},
   "source": [
    "### Nobody knows nothin'\n",
    "\n",
    "To say that investing in the movie industry is a risky endeavor may be an understatment. The success of a movie can be unpredictable. This is due to the countless social, political and economic factors at play at time of release. Take a movie like \"Little miss Sunshine\" which turned out to be an incredibly profitable venture or John Carter that was a collosol flop. "
   ]
  },
  {
   "cell_type": "markdown",
   "metadata": {},
   "source": [
    "# How to represent your data\n",
    "\n",
    "Today I created a simple bar plot of the median amount earnt by genre. This is 90% of the way there:\n",
    "- Create two plots, both using the same method. One with and one without outliers present (allude to Aidan's word)\n",
    "- Create a relational plot of multi genre data vs principle component and explain the theory that the whole is greater than the sum of it's parts\n",
    "\n",
    "I think that is a sufficent level of analysis on plot. Incorporate the business intelligence gained from Aidans work to tell a story tbd\n",
    "\n",
    "Tomorrow, I will finalize the box and whisker graphs. I think All that is needed to make it run is to pull out each genre as it's own series and plot those as a box and whisker graph with and without ouitliers present.\n",
    "\n",
    "I think For the time series stuff, I need to look into time of the year released. I would like to look at months, group by month and just do a frequency distribution of months. A seaborn historgram would get that done.\n",
    "\n",
    "Tonight I want to write a webscraping program to add on a little bit of information to my imdb data frame"
   ]
  }
 ],
 "metadata": {
  "kernelspec": {
   "display_name": "Python 3",
   "language": "python",
   "name": "python3"
  },
  "language_info": {
   "codemirror_mode": {
    "name": "ipython",
    "version": 3
   },
   "file_extension": ".py",
   "mimetype": "text/x-python",
   "name": "python",
   "nbconvert_exporter": "python",
   "pygments_lexer": "ipython3",
   "version": "3.6.9"
  }
 },
 "nbformat": 4,
 "nbformat_minor": 4
}
