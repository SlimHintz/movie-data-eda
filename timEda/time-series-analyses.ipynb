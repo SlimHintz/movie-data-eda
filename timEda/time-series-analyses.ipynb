{
 "cells": [
  {
   "cell_type": "code",
   "execution_count": 276,
   "metadata": {},
   "outputs": [],
   "source": [
    "from vaderSentiment.vaderSentiment import SentimentIntensityAnalyzer\n",
    "import pandas as pd\n",
    "import sqlite3 \n",
    "import matplotlib.pyplot as plt\n",
    "import seaborn as sns\n",
    "import numpy as np\n",
    "import src\n",
    "\n",
    "%matplotlib inline"
   ]
  },
  {
   "cell_type": "code",
   "execution_count": 277,
   "metadata": {},
   "outputs": [
    {
     "data": {
      "text/html": [
       "<div>\n",
       "<style scoped>\n",
       "    .dataframe tbody tr th:only-of-type {\n",
       "        vertical-align: middle;\n",
       "    }\n",
       "\n",
       "    .dataframe tbody tr th {\n",
       "        vertical-align: top;\n",
       "    }\n",
       "\n",
       "    .dataframe thead th {\n",
       "        text-align: right;\n",
       "    }\n",
       "</style>\n",
       "<table border=\"1\" class=\"dataframe\">\n",
       "  <thead>\n",
       "    <tr style=\"text-align: right;\">\n",
       "      <th></th>\n",
       "      <th>genre_ids</th>\n",
       "      <th>id</th>\n",
       "      <th>original_language</th>\n",
       "      <th>original_title</th>\n",
       "      <th>popularity</th>\n",
       "      <th>release_date</th>\n",
       "      <th>title</th>\n",
       "      <th>vote_average</th>\n",
       "      <th>vote_count</th>\n",
       "    </tr>\n",
       "  </thead>\n",
       "  <tbody>\n",
       "    <tr>\n",
       "      <th>0</th>\n",
       "      <td>[12, 14, 10751]</td>\n",
       "      <td>12444</td>\n",
       "      <td>en</td>\n",
       "      <td>Harry Potter and the Deathly Hallows: Part 1</td>\n",
       "      <td>33.533</td>\n",
       "      <td>2010-11-19</td>\n",
       "      <td>Harry Potter and the Deathly Hallows: Part 1</td>\n",
       "      <td>7.7</td>\n",
       "      <td>10788</td>\n",
       "    </tr>\n",
       "    <tr>\n",
       "      <th>1</th>\n",
       "      <td>[14, 12, 16, 10751]</td>\n",
       "      <td>10191</td>\n",
       "      <td>en</td>\n",
       "      <td>How to Train Your Dragon</td>\n",
       "      <td>28.734</td>\n",
       "      <td>2010-03-26</td>\n",
       "      <td>How to Train Your Dragon</td>\n",
       "      <td>7.7</td>\n",
       "      <td>7610</td>\n",
       "    </tr>\n",
       "    <tr>\n",
       "      <th>2</th>\n",
       "      <td>[12, 28, 878]</td>\n",
       "      <td>10138</td>\n",
       "      <td>en</td>\n",
       "      <td>Iron Man 2</td>\n",
       "      <td>28.515</td>\n",
       "      <td>2010-05-07</td>\n",
       "      <td>Iron Man 2</td>\n",
       "      <td>6.8</td>\n",
       "      <td>12368</td>\n",
       "    </tr>\n",
       "    <tr>\n",
       "      <th>3</th>\n",
       "      <td>[16, 35, 10751]</td>\n",
       "      <td>862</td>\n",
       "      <td>en</td>\n",
       "      <td>Toy Story</td>\n",
       "      <td>28.005</td>\n",
       "      <td>1995-11-22</td>\n",
       "      <td>Toy Story</td>\n",
       "      <td>7.9</td>\n",
       "      <td>10174</td>\n",
       "    </tr>\n",
       "    <tr>\n",
       "      <th>4</th>\n",
       "      <td>[28, 878, 12]</td>\n",
       "      <td>27205</td>\n",
       "      <td>en</td>\n",
       "      <td>Inception</td>\n",
       "      <td>27.920</td>\n",
       "      <td>2010-07-16</td>\n",
       "      <td>Inception</td>\n",
       "      <td>8.3</td>\n",
       "      <td>22186</td>\n",
       "    </tr>\n",
       "  </tbody>\n",
       "</table>\n",
       "</div>"
      ],
      "text/plain": [
       "             genre_ids     id original_language  \\\n",
       "0      [12, 14, 10751]  12444                en   \n",
       "1  [14, 12, 16, 10751]  10191                en   \n",
       "2        [12, 28, 878]  10138                en   \n",
       "3      [16, 35, 10751]    862                en   \n",
       "4        [28, 878, 12]  27205                en   \n",
       "\n",
       "                                 original_title  popularity release_date  \\\n",
       "0  Harry Potter and the Deathly Hallows: Part 1      33.533   2010-11-19   \n",
       "1                      How to Train Your Dragon      28.734   2010-03-26   \n",
       "2                                    Iron Man 2      28.515   2010-05-07   \n",
       "3                                     Toy Story      28.005   1995-11-22   \n",
       "4                                     Inception      27.920   2010-07-16   \n",
       "\n",
       "                                          title  vote_average  vote_count  \n",
       "0  Harry Potter and the Deathly Hallows: Part 1           7.7       10788  \n",
       "1                      How to Train Your Dragon           7.7        7610  \n",
       "2                                    Iron Man 2           6.8       12368  \n",
       "3                                     Toy Story           7.9       10174  \n",
       "4                                     Inception           8.3       22186  "
      ]
     },
     "execution_count": 277,
     "metadata": {},
     "output_type": "execute_result"
    }
   ],
   "source": [
    "df_tmdb = pd.read_csv('../zippedData/tmdb.movies.csv.gz', index_col=0)\n",
    "df_budgets = pd.read_csv('tn.movie_budgets.csv')\n",
    "df_rotten = pd.read_csv('rotten-sentiments.csv')\n",
    "df_tmdb.head()"
   ]
  },
  {
   "cell_type": "code",
   "execution_count": 278,
   "metadata": {},
   "outputs": [],
   "source": [
    "# Clean tmdb\n",
    "df_tmdb.release_date = pd.to_datetime(df_tmdb.release_date)\n",
    "df_tmdb['month_day'] = df_tmdb.release_date.dt.strftime(\"%m%d\")\n",
    "df_tmdb['month'] = df_tmdb.release_date.dt.strftime(\"%m\")\n",
    "df_tmdb['year'] = df_tmdb.release_date.dt.strftime(\"%Y\").astype(int)\n",
    "df_tmdb = df_tmdb[df_tmdb.year > 2009]\n",
    "tmdb_grouped = df_tmdb.groupby(['month']).id.count()\n"
   ]
  },
  {
   "cell_type": "code",
   "execution_count": 279,
   "metadata": {},
   "outputs": [
    {
     "name": "stdout",
     "output_type": "stream",
     "text": [
      "(5782, 6)\n"
     ]
    }
   ],
   "source": [
    "# Clean Budget \n",
    "print(df_budgets.shape)\n",
    "df_budgets.release_date = pd.to_datetime(df_budgets.release_date)\n",
    "df_budgets['month_day'] = df_budgets.release_date.dt.strftime(\"%m%d\")\n",
    "df_budgets['month'] = df_budgets.release_date.dt.strftime(\"%m\")\n",
    "df_budgets['year'] = df_budgets.release_date.dt.strftime(\"%Y\").astype(int)\n",
    "df_budgets = df_budgets[df_budgets.year > 2009]\n",
    "budgets_grouped = df_budgets.groupby(['month']).id.count()\n"
   ]
  },
  {
   "cell_type": "code",
   "execution_count": 280,
   "metadata": {},
   "outputs": [],
   "source": [
    "# in order to see how many movies were released on a given day, we have to create a subset of the data with 1 entry per movie\n",
    "df_no_dup_series = df_rotten.id.drop_duplicates()\n",
    "df_rotten = df_rotten.iloc[df_no_dup_series.index]\n",
    "df_rotten.shape\n",
    "\n",
    "\n",
    "# Clean rotten data up for merging on a month_day column\n",
    "df_rotten = df_rotten[df_rotten['theater_date'].notnull()]\n",
    "\n",
    "# convert to datetime object\n",
    "df_rotten.theater_date = pd.to_datetime(df_rotten.theater_date)\n",
    "\n",
    "\n",
    "df_rotten['month'] = df_rotten.theater_date.dt.strftime(\"%m\") \n",
    "df_rotten['day'] = df_rotten.theater_date.dt.strftime('%d')\n",
    "df_rotten['year'] = df_rotten.theater_date.dt.strftime('%Y').astype(int)\n",
    "df_rotten['month_day'] =  df_rotten.theater_date.dt.strftime('%m%d').astype(int)\n",
    "\n",
    "df_rotten = df_rotten[df_rotten.year > 2009]\n",
    "rotten_grouped = df_rotten.groupby(['month']).id.count()"
   ]
  },
  {
   "cell_type": "code",
   "execution_count": 285,
   "metadata": {},
   "outputs": [
    {
     "data": {
      "text/html": [
       "<div>\n",
       "<style scoped>\n",
       "    .dataframe tbody tr th:only-of-type {\n",
       "        vertical-align: middle;\n",
       "    }\n",
       "\n",
       "    .dataframe tbody tr th {\n",
       "        vertical-align: top;\n",
       "    }\n",
       "\n",
       "    .dataframe thead th {\n",
       "        text-align: right;\n",
       "    }\n",
       "</style>\n",
       "<table border=\"1\" class=\"dataframe\">\n",
       "  <thead>\n",
       "    <tr style=\"text-align: right;\">\n",
       "      <th></th>\n",
       "      <th>id</th>\n",
       "      <th>review</th>\n",
       "      <th>rating_x</th>\n",
       "      <th>fresh</th>\n",
       "      <th>critic</th>\n",
       "      <th>top_critic</th>\n",
       "      <th>publisher</th>\n",
       "      <th>date</th>\n",
       "      <th>synopsis</th>\n",
       "      <th>rating_y</th>\n",
       "      <th>...</th>\n",
       "      <th>writer</th>\n",
       "      <th>theater_date</th>\n",
       "      <th>dvd_date</th>\n",
       "      <th>currency</th>\n",
       "      <th>box_office</th>\n",
       "      <th>sentiment</th>\n",
       "      <th>month</th>\n",
       "      <th>day</th>\n",
       "      <th>year</th>\n",
       "      <th>month_day</th>\n",
       "    </tr>\n",
       "  </thead>\n",
       "  <tbody>\n",
       "    <tr>\n",
       "      <th>803</th>\n",
       "      <td>25</td>\n",
       "      <td>Anyone who might want characters and not clich...</td>\n",
       "      <td>C-</td>\n",
       "      <td>rotten</td>\n",
       "      <td>Stephen Schaefer</td>\n",
       "      <td>0</td>\n",
       "      <td>Boston Herald</td>\n",
       "      <td>November 29, 2017</td>\n",
       "      <td>From ancient Japan's most enduring tale, the e...</td>\n",
       "      <td>PG-13</td>\n",
       "      <td>...</td>\n",
       "      <td>Chris Morgan|Hossein Amini</td>\n",
       "      <td>2013-12-25</td>\n",
       "      <td>Apr 1, 2014</td>\n",
       "      <td>$</td>\n",
       "      <td>20,518,224</td>\n",
       "      <td>-0.0941</td>\n",
       "      <td>12</td>\n",
       "      <td>25</td>\n",
       "      <td>2013</td>\n",
       "      <td>1225</td>\n",
       "    </tr>\n",
       "  </tbody>\n",
       "</table>\n",
       "<p>1 rows × 22 columns</p>\n",
       "</div>"
      ],
      "text/plain": [
       "     id                                             review rating_x   fresh  \\\n",
       "803  25  Anyone who might want characters and not clich...       C-  rotten   \n",
       "\n",
       "               critic  top_critic      publisher               date  \\\n",
       "803  Stephen Schaefer           0  Boston Herald  November 29, 2017   \n",
       "\n",
       "                                              synopsis rating_y  ...  \\\n",
       "803  From ancient Japan's most enduring tale, the e...    PG-13  ...   \n",
       "\n",
       "                         writer theater_date     dvd_date currency  \\\n",
       "803  Chris Morgan|Hossein Amini   2013-12-25  Apr 1, 2014        $   \n",
       "\n",
       "     box_office sentiment month  day  year month_day  \n",
       "803  20,518,224   -0.0941    12   25  2013      1225  \n",
       "\n",
       "[1 rows x 22 columns]"
      ]
     },
     "execution_count": 285,
     "metadata": {},
     "output_type": "execute_result"
    }
   ],
   "source": [
    "df_rotten[df_rotten.month_day == 1225]"
   ]
  },
  {
   "cell_type": "code",
   "execution_count": 219,
   "metadata": {},
   "outputs": [
    {
     "data": {
      "image/png": "[encoded data removed]",
      "text/plain": [
       "<Figure size 432x288 with 1 Axes>"
      ]
     },
     "metadata": {
      "needs_background": "light"
     },
     "output_type": "display_data"
    }
   ],
   "source": [
    "# I have 3 series that I would like to turn into 1 long series of their sums\n",
    "monthly_series = rotten_grouped + budgets_grouped + tmdb_grouped\n",
    "monthly_series.plot(kind='bar')\n",
    "plt.ylabel('Number of Movie Releases', size= 12)\n",
    "plt.xlabel('Month', size= 12)\n",
    "plt.title(f'Monthly Movie Releases Since 2010; n={sum(series.values)}');"
   ]
  },
  {
   "cell_type": "code",
   "execution_count": 220,
   "metadata": {},
   "outputs": [],
   "source": [
    "# Lets bring back rotten df and budget and look at the box office performance per month.\n",
    "df_budgets = pd.read_csv('tn.movie_budgets.csv')\n",
    "df_rotten = pd.read_csv('rotten-sentiments.csv')\n",
    "df_tmdb = pd.read_csv('../zippedData/tmdb.movies.csv.gz', index_col=0)"
   ]
  },
  {
   "cell_type": "code",
   "execution_count": 221,
   "metadata": {},
   "outputs": [
    {
     "name": "stdout",
     "output_type": "stream",
     "text": [
      "(26.0, 5.0)\n"
     ]
    }
   ],
   "source": [
    "print(src.get_iqr_median(df_tmdb, 'vote_count'))"
   ]
  },
  {
   "cell_type": "code",
   "execution_count": 222,
   "metadata": {},
   "outputs": [],
   "source": [
    "# Let's look at popularity as a function of release date\n",
    "# Clean tmdb\n",
    "df_tmdb.release_date = pd.to_datetime(df_tmdb.release_date)\n",
    "df_tmdb['month_day'] = df_tmdb.release_date.dt.strftime(\"%m%d\")\n",
    "df_tmdb['month'] = df_tmdb.release_date.dt.strftime(\"%m\").astype(int)\n",
    "df_tmdb['year'] = df_tmdb.release_date.dt.strftime(\"%Y\").astype(int)\n",
    "df_tmdb = df_tmdb[(df_tmdb.year > 2009) & (df_tmdb.vote_count > 150)]\n",
    "tmdb_grouped = df_tmdb.groupby(['month']).popularity.mean()"
   ]
  },
  {
   "cell_type": "code",
   "execution_count": 223,
   "metadata": {},
   "outputs": [
    {
     "data": {
      "image/png": "[encoded data removed]",
      "text/plain": [
       "<Figure size 432x288 with 1 Axes>"
      ]
     },
     "metadata": {
      "needs_background": "light"
     },
     "output_type": "display_data"
    }
   ],
   "source": [
    "tmdb_grouped.plot(kind='bar')\n",
    "plt.title(\"Average Popularity of Movie In a Given Month\")\n",
    "plt.ylabel(\"Popularity\", size = 12);\n",
    "plt.xlabel('Month', size = 12);"
   ]
  },
  {
   "cell_type": "code",
   "execution_count": 224,
   "metadata": {
    "scrolled": true
   },
   "outputs": [
    {
     "data": {
      "image/png": "[encoded data removed]",
      "text/plain": [
       "<Figure size 432x288 with 1 Axes>"
      ]
     },
     "metadata": {
      "needs_background": "light"
     },
     "output_type": "display_data"
    }
   ],
   "source": [
    "# Now let's plot popularity against release numbers\n",
    "plt.scatter(monthly_series,tmdb_grouped)\n",
    "plt.title(\"Number of Movies Released per Month and Popularity\")\n",
    "plt.xlabel(\"Number of Movies Released In a Month\", size = 12)\n",
    "plt.ylabel(\"Average Popularity\", size = 12);"
   ]
  },
  {
   "cell_type": "code",
   "execution_count": 225,
   "metadata": {
    "scrolled": true
   },
   "outputs": [
    {
     "data": {
      "image/png": "[encoded data removed]",
      "text/plain": [
       "<Figure size 432x288 with 1 Axes>"
      ]
     },
     "metadata": {
      "needs_background": "light"
     },
     "output_type": "display_data"
    }
   ],
   "source": [
    "ax = sns.violinplot(x=\"month\", y=\"popularity\", data=df_tmdb)"
   ]
  },
  {
   "cell_type": "code",
   "execution_count": 226,
   "metadata": {},
   "outputs": [
    {
     "data": {
      "text/html": [
       "<div>\n",
       "<style scoped>\n",
       "    .dataframe tbody tr th:only-of-type {\n",
       "        vertical-align: middle;\n",
       "    }\n",
       "\n",
       "    .dataframe tbody tr th {\n",
       "        vertical-align: top;\n",
       "    }\n",
       "\n",
       "    .dataframe thead th {\n",
       "        text-align: right;\n",
       "    }\n",
       "</style>\n",
       "<table border=\"1\" class=\"dataframe\">\n",
       "  <thead>\n",
       "    <tr style=\"text-align: right;\">\n",
       "      <th></th>\n",
       "      <th>id</th>\n",
       "      <th>popularity</th>\n",
       "      <th>vote_average</th>\n",
       "      <th>vote_count</th>\n",
       "      <th>month</th>\n",
       "      <th>year</th>\n",
       "    </tr>\n",
       "  </thead>\n",
       "  <tbody>\n",
       "    <tr>\n",
       "      <th>id</th>\n",
       "      <td>1.000000</td>\n",
       "      <td>0.087892</td>\n",
       "      <td>0.071313</td>\n",
       "      <td>-0.115522</td>\n",
       "      <td>0.072482</td>\n",
       "      <td>0.907564</td>\n",
       "    </tr>\n",
       "    <tr>\n",
       "      <th>popularity</th>\n",
       "      <td>0.087892</td>\n",
       "      <td>1.000000</td>\n",
       "      <td>0.216534</td>\n",
       "      <td>0.694280</td>\n",
       "      <td>0.085307</td>\n",
       "      <td>0.209375</td>\n",
       "    </tr>\n",
       "    <tr>\n",
       "      <th>vote_average</th>\n",
       "      <td>0.071313</td>\n",
       "      <td>0.216534</td>\n",
       "      <td>1.000000</td>\n",
       "      <td>0.310862</td>\n",
       "      <td>0.129654</td>\n",
       "      <td>0.056147</td>\n",
       "    </tr>\n",
       "    <tr>\n",
       "      <th>vote_count</th>\n",
       "      <td>-0.115522</td>\n",
       "      <td>0.694280</td>\n",
       "      <td>0.310862</td>\n",
       "      <td>1.000000</td>\n",
       "      <td>0.084450</td>\n",
       "      <td>-0.000014</td>\n",
       "    </tr>\n",
       "    <tr>\n",
       "      <th>month</th>\n",
       "      <td>0.072482</td>\n",
       "      <td>0.085307</td>\n",
       "      <td>0.129654</td>\n",
       "      <td>0.084450</td>\n",
       "      <td>1.000000</td>\n",
       "      <td>-0.010966</td>\n",
       "    </tr>\n",
       "    <tr>\n",
       "      <th>year</th>\n",
       "      <td>0.907564</td>\n",
       "      <td>0.209375</td>\n",
       "      <td>0.056147</td>\n",
       "      <td>-0.000014</td>\n",
       "      <td>-0.010966</td>\n",
       "      <td>1.000000</td>\n",
       "    </tr>\n",
       "  </tbody>\n",
       "</table>\n",
       "</div>"
      ],
      "text/plain": [
       "                    id  popularity  vote_average  vote_count     month  \\\n",
       "id            1.000000    0.087892      0.071313   -0.115522  0.072482   \n",
       "popularity    0.087892    1.000000      0.216534    0.694280  0.085307   \n",
       "vote_average  0.071313    0.216534      1.000000    0.310862  0.129654   \n",
       "vote_count   -0.115522    0.694280      0.310862    1.000000  0.084450   \n",
       "month         0.072482    0.085307      0.129654    0.084450  1.000000   \n",
       "year          0.907564    0.209375      0.056147   -0.000014 -0.010966   \n",
       "\n",
       "                  year  \n",
       "id            0.907564  \n",
       "popularity    0.209375  \n",
       "vote_average  0.056147  \n",
       "vote_count   -0.000014  \n",
       "month        -0.010966  \n",
       "year          1.000000  "
      ]
     },
     "execution_count": 226,
     "metadata": {},
     "output_type": "execute_result"
    }
   ],
   "source": [
    "df_tmdb.corr()"
   ]
  },
  {
   "cell_type": "code",
   "execution_count": 227,
   "metadata": {},
   "outputs": [
    {
     "data": {
      "text/html": [
       "<div>\n",
       "<style scoped>\n",
       "    .dataframe tbody tr th:only-of-type {\n",
       "        vertical-align: middle;\n",
       "    }\n",
       "\n",
       "    .dataframe tbody tr th {\n",
       "        vertical-align: top;\n",
       "    }\n",
       "\n",
       "    .dataframe thead th {\n",
       "        text-align: right;\n",
       "    }\n",
       "</style>\n",
       "<table border=\"1\" class=\"dataframe\">\n",
       "  <thead>\n",
       "    <tr style=\"text-align: right;\">\n",
       "      <th></th>\n",
       "      <th>id</th>\n",
       "      <th>release_date</th>\n",
       "      <th>movie</th>\n",
       "      <th>production_budget</th>\n",
       "      <th>domestic_gross</th>\n",
       "      <th>worldwide_gross</th>\n",
       "      <th>month_day</th>\n",
       "      <th>month</th>\n",
       "      <th>year</th>\n",
       "    </tr>\n",
       "  </thead>\n",
       "  <tbody>\n",
       "    <tr>\n",
       "      <th>1</th>\n",
       "      <td>2</td>\n",
       "      <td>2011-05-20</td>\n",
       "      <td>Pirates of the Caribbean: On Stranger Tides</td>\n",
       "      <td>410600000.0</td>\n",
       "      <td>241063875.0</td>\n",
       "      <td>1.045664e+09</td>\n",
       "      <td>520</td>\n",
       "      <td>5</td>\n",
       "      <td>2011</td>\n",
       "    </tr>\n",
       "    <tr>\n",
       "      <th>2</th>\n",
       "      <td>3</td>\n",
       "      <td>2019-06-07</td>\n",
       "      <td>Dark Phoenix</td>\n",
       "      <td>350000000.0</td>\n",
       "      <td>42762350.0</td>\n",
       "      <td>1.497624e+08</td>\n",
       "      <td>607</td>\n",
       "      <td>6</td>\n",
       "      <td>2019</td>\n",
       "    </tr>\n",
       "    <tr>\n",
       "      <th>3</th>\n",
       "      <td>4</td>\n",
       "      <td>2015-05-01</td>\n",
       "      <td>Avengers: Age of Ultron</td>\n",
       "      <td>330600000.0</td>\n",
       "      <td>459005868.0</td>\n",
       "      <td>1.403014e+09</td>\n",
       "      <td>501</td>\n",
       "      <td>5</td>\n",
       "      <td>2015</td>\n",
       "    </tr>\n",
       "    <tr>\n",
       "      <th>4</th>\n",
       "      <td>5</td>\n",
       "      <td>2017-12-15</td>\n",
       "      <td>Star Wars Ep. VIII: The Last Jedi</td>\n",
       "      <td>317000000.0</td>\n",
       "      <td>620181382.0</td>\n",
       "      <td>1.316722e+09</td>\n",
       "      <td>1215</td>\n",
       "      <td>12</td>\n",
       "      <td>2017</td>\n",
       "    </tr>\n",
       "    <tr>\n",
       "      <th>5</th>\n",
       "      <td>6</td>\n",
       "      <td>2015-12-18</td>\n",
       "      <td>Star Wars Ep. VII: The Force Awakens</td>\n",
       "      <td>306000000.0</td>\n",
       "      <td>936662225.0</td>\n",
       "      <td>2.053311e+09</td>\n",
       "      <td>1218</td>\n",
       "      <td>12</td>\n",
       "      <td>2015</td>\n",
       "    </tr>\n",
       "  </tbody>\n",
       "</table>\n",
       "</div>"
      ],
      "text/plain": [
       "   id release_date                                        movie  \\\n",
       "1   2   2011-05-20  Pirates of the Caribbean: On Stranger Tides   \n",
       "2   3   2019-06-07                                 Dark Phoenix   \n",
       "3   4   2015-05-01                      Avengers: Age of Ultron   \n",
       "4   5   2017-12-15            Star Wars Ep. VIII: The Last Jedi   \n",
       "5   6   2015-12-18         Star Wars Ep. VII: The Force Awakens   \n",
       "\n",
       "   production_budget  domestic_gross  worldwide_gross  month_day  month  year  \n",
       "1        410600000.0     241063875.0     1.045664e+09        520      5  2011  \n",
       "2        350000000.0      42762350.0     1.497624e+08        607      6  2019  \n",
       "3        330600000.0     459005868.0     1.403014e+09        501      5  2015  \n",
       "4        317000000.0     620181382.0     1.316722e+09       1215     12  2017  \n",
       "5        306000000.0     936662225.0     2.053311e+09       1218     12  2015  "
      ]
     },
     "execution_count": 227,
     "metadata": {},
     "output_type": "execute_result"
    }
   ],
   "source": [
    "# Let's look at budgets in a given month\n",
    "df_budgets.release_date = pd.to_datetime(df_budgets.release_date)\n",
    "df_budgets['month_day'] = df_budgets.release_date.dt.strftime(\"%m%d\").astype(int)\n",
    "df_budgets['month'] = df_budgets.release_date.dt.strftime(\"%m\").astype(int)\n",
    "df_budgets['year'] = df_budgets.release_date.dt.strftime(\"%Y\").astype(int)\n",
    "df_budgets = df_budgets[(df_budgets.year > 2009)]\n",
    "df_budgets.head()"
   ]
  },
  {
   "cell_type": "code",
   "execution_count": 228,
   "metadata": {},
   "outputs": [],
   "source": [
    "df_budgets['roi'] = (df_budgets['worldwide_gross']-df_budgets['production_budget'])/df_budgets['production_budget']"
   ]
  },
  {
   "cell_type": "code",
   "execution_count": 233,
   "metadata": {},
   "outputs": [
    {
     "data": {
      "text/plain": [
       "{1: 3274,\n",
       " 2: 1770,\n",
       " 3: 2604,\n",
       " 4: 2743,\n",
       " 5: 2019,\n",
       " 6: 2322,\n",
       " 7: 1662,\n",
       " 8: 1873,\n",
       " 9: 2451,\n",
       " 10: 3220,\n",
       " 11: 2503,\n",
       " 12: 2204}"
      ]
     },
     "execution_count": 233,
     "metadata": {},
     "output_type": "execute_result"
    }
   ],
   "source": [
    "monthly_number_map_dict = {}\n",
    "monthly_series.value_counts()\n",
    "for month, number in zip(monthly_series.index, monthly_series.values):\n",
    "    monthly_number_map_dict[int(month)] = number\n",
    "monthly_number_map_dict"
   ]
  },
  {
   "cell_type": "code",
   "execution_count": 235,
   "metadata": {},
   "outputs": [],
   "source": [
    "df_budgets['monthly_release']=df_budgets.month.apply(lambda x: monthly_number_map_dict[x])"
   ]
  },
  {
   "cell_type": "code",
   "execution_count": 236,
   "metadata": {},
   "outputs": [
    {
     "data": {
      "text/html": [
       "<div>\n",
       "<style scoped>\n",
       "    .dataframe tbody tr th:only-of-type {\n",
       "        vertical-align: middle;\n",
       "    }\n",
       "\n",
       "    .dataframe tbody tr th {\n",
       "        vertical-align: top;\n",
       "    }\n",
       "\n",
       "    .dataframe thead th {\n",
       "        text-align: right;\n",
       "    }\n",
       "</style>\n",
       "<table border=\"1\" class=\"dataframe\">\n",
       "  <thead>\n",
       "    <tr style=\"text-align: right;\">\n",
       "      <th></th>\n",
       "      <th>id</th>\n",
       "      <th>production_budget</th>\n",
       "      <th>domestic_gross</th>\n",
       "      <th>worldwide_gross</th>\n",
       "      <th>month_day</th>\n",
       "      <th>month</th>\n",
       "      <th>year</th>\n",
       "      <th>roi</th>\n",
       "      <th>monthly_release</th>\n",
       "    </tr>\n",
       "  </thead>\n",
       "  <tbody>\n",
       "    <tr>\n",
       "      <th>id</th>\n",
       "      <td>1.000000</td>\n",
       "      <td>-0.058677</td>\n",
       "      <td>-0.018137</td>\n",
       "      <td>-0.029658</td>\n",
       "      <td>-0.016824</td>\n",
       "      <td>-0.016592</td>\n",
       "      <td>0.024780</td>\n",
       "      <td>0.032374</td>\n",
       "      <td>-0.022207</td>\n",
       "    </tr>\n",
       "    <tr>\n",
       "      <th>production_budget</th>\n",
       "      <td>-0.058677</td>\n",
       "      <td>1.000000</td>\n",
       "      <td>0.732027</td>\n",
       "      <td>0.793638</td>\n",
       "      <td>-0.006604</td>\n",
       "      <td>-0.005945</td>\n",
       "      <td>0.078174</td>\n",
       "      <td>-0.009964</td>\n",
       "      <td>-0.109772</td>\n",
       "    </tr>\n",
       "    <tr>\n",
       "      <th>domestic_gross</th>\n",
       "      <td>-0.018137</td>\n",
       "      <td>0.732027</td>\n",
       "      <td>1.000000</td>\n",
       "      <td>0.946190</td>\n",
       "      <td>0.001744</td>\n",
       "      <td>0.003324</td>\n",
       "      <td>0.078724</td>\n",
       "      <td>0.133871</td>\n",
       "      <td>-0.098325</td>\n",
       "    </tr>\n",
       "    <tr>\n",
       "      <th>worldwide_gross</th>\n",
       "      <td>-0.029658</td>\n",
       "      <td>0.793638</td>\n",
       "      <td>0.946190</td>\n",
       "      <td>1.000000</td>\n",
       "      <td>0.003123</td>\n",
       "      <td>0.004323</td>\n",
       "      <td>0.079775</td>\n",
       "      <td>0.122344</td>\n",
       "      <td>-0.095865</td>\n",
       "    </tr>\n",
       "    <tr>\n",
       "      <th>month_day</th>\n",
       "      <td>-0.016824</td>\n",
       "      <td>-0.006604</td>\n",
       "      <td>0.001744</td>\n",
       "      <td>0.003123</td>\n",
       "      <td>1.000000</td>\n",
       "      <td>0.999685</td>\n",
       "      <td>-0.040289</td>\n",
       "      <td>-0.018829</td>\n",
       "      <td>-0.060905</td>\n",
       "    </tr>\n",
       "    <tr>\n",
       "      <th>month</th>\n",
       "      <td>-0.016592</td>\n",
       "      <td>-0.005945</td>\n",
       "      <td>0.003324</td>\n",
       "      <td>0.004323</td>\n",
       "      <td>0.999685</td>\n",
       "      <td>1.000000</td>\n",
       "      <td>-0.039759</td>\n",
       "      <td>-0.018122</td>\n",
       "      <td>-0.060704</td>\n",
       "    </tr>\n",
       "    <tr>\n",
       "      <th>year</th>\n",
       "      <td>0.024780</td>\n",
       "      <td>0.078174</td>\n",
       "      <td>0.078724</td>\n",
       "      <td>0.079775</td>\n",
       "      <td>-0.040289</td>\n",
       "      <td>-0.039759</td>\n",
       "      <td>1.000000</td>\n",
       "      <td>0.021452</td>\n",
       "      <td>-0.001976</td>\n",
       "    </tr>\n",
       "    <tr>\n",
       "      <th>roi</th>\n",
       "      <td>0.032374</td>\n",
       "      <td>-0.009964</td>\n",
       "      <td>0.133871</td>\n",
       "      <td>0.122344</td>\n",
       "      <td>-0.018829</td>\n",
       "      <td>-0.018122</td>\n",
       "      <td>0.021452</td>\n",
       "      <td>1.000000</td>\n",
       "      <td>-0.012702</td>\n",
       "    </tr>\n",
       "    <tr>\n",
       "      <th>monthly_release</th>\n",
       "      <td>-0.022207</td>\n",
       "      <td>-0.109772</td>\n",
       "      <td>-0.098325</td>\n",
       "      <td>-0.095865</td>\n",
       "      <td>-0.060905</td>\n",
       "      <td>-0.060704</td>\n",
       "      <td>-0.001976</td>\n",
       "      <td>-0.012702</td>\n",
       "      <td>1.000000</td>\n",
       "    </tr>\n",
       "  </tbody>\n",
       "</table>\n",
       "</div>"
      ],
      "text/plain": [
       "                         id  production_budget  domestic_gross  \\\n",
       "id                 1.000000          -0.058677       -0.018137   \n",
       "production_budget -0.058677           1.000000        0.732027   \n",
       "domestic_gross    -0.018137           0.732027        1.000000   \n",
       "worldwide_gross   -0.029658           0.793638        0.946190   \n",
       "month_day         -0.016824          -0.006604        0.001744   \n",
       "month             -0.016592          -0.005945        0.003324   \n",
       "year               0.024780           0.078174        0.078724   \n",
       "roi                0.032374          -0.009964        0.133871   \n",
       "monthly_release   -0.022207          -0.109772       -0.098325   \n",
       "\n",
       "                   worldwide_gross  month_day     month      year       roi  \\\n",
       "id                       -0.029658  -0.016824 -0.016592  0.024780  0.032374   \n",
       "production_budget         0.793638  -0.006604 -0.005945  0.078174 -0.009964   \n",
       "domestic_gross            0.946190   0.001744  0.003324  0.078724  0.133871   \n",
       "worldwide_gross           1.000000   0.003123  0.004323  0.079775  0.122344   \n",
       "month_day                 0.003123   1.000000  0.999685 -0.040289 -0.018829   \n",
       "month                     0.004323   0.999685  1.000000 -0.039759 -0.018122   \n",
       "year                      0.079775  -0.040289 -0.039759  1.000000  0.021452   \n",
       "roi                       0.122344  -0.018829 -0.018122  0.021452  1.000000   \n",
       "monthly_release          -0.095865  -0.060905 -0.060704 -0.001976 -0.012702   \n",
       "\n",
       "                   monthly_release  \n",
       "id                       -0.022207  \n",
       "production_budget        -0.109772  \n",
       "domestic_gross           -0.098325  \n",
       "worldwide_gross          -0.095865  \n",
       "month_day                -0.060905  \n",
       "month                    -0.060704  \n",
       "year                     -0.001976  \n",
       "roi                      -0.012702  \n",
       "monthly_release           1.000000  "
      ]
     },
     "execution_count": 236,
     "metadata": {},
     "output_type": "execute_result"
    }
   ],
   "source": [
    "df_budgets.corr()"
   ]
  },
  {
   "cell_type": "code",
   "execution_count": 241,
   "metadata": {},
   "outputs": [],
   "source": [
    "# in order to see how many movies were released on a given day, we have to create a subset of the data with 1 entry per movie\n",
    "df_no_dup_series = df_rotten.id.drop_duplicates()\n",
    "df_rotten = df_rotten.iloc[df_no_dup_series.index]\n",
    "df_rotten.shape\n",
    "\n",
    "\n",
    "# Clean rotten data up for merging on a month_day column\n",
    "df_rotten = df_rotten[df_rotten['theater_date'].notnull()]\n",
    "\n",
    "# convert to datetime object\n",
    "df_rotten.theater_date = pd.to_datetime(df_rotten.theater_date)\n",
    "\n",
    "\n",
    "df_rotten['month'] = df_rotten.theater_date.dt.strftime(\"%m\") \n",
    "df_rotten['day'] = df_rotten.theater_date.dt.strftime('%d')\n",
    "df_rotten['year'] = df_rotten.theater_date.dt.strftime('%Y').astype(int)\n",
    "df_rotten['month_day'] =  df_rotten.theater_date.dt.strftime('%m%d')\n",
    "\n",
    "df_rotten = df_rotten[(df_rotten.year > 2009)]"
   ]
  },
  {
   "cell_type": "code",
   "execution_count": 253,
   "metadata": {},
   "outputs": [],
   "source": [
    "sentiment_grouped = df_rotten.groupby(['month']).sentiment.median()"
   ]
  },
  {
   "cell_type": "code",
   "execution_count": 254,
   "metadata": {},
   "outputs": [
    {
     "data": {
      "image/png": "[encoded data removed]",
      "text/plain": [
       "<Figure size 432x288 with 1 Axes>"
      ]
     },
     "metadata": {
      "needs_background": "light"
     },
     "output_type": "display_data"
    }
   ],
   "source": [
    "sentiment_grouped.plot(kind = 'bar')\n",
    "plt.title('How Do Reviewers Feel About Movies?');"
   ]
  },
  {
   "cell_type": "code",
   "execution_count": 258,
   "metadata": {},
   "outputs": [],
   "source": [
    "negativity = df_rotten.groupby(['publisher']).sentiment.median().sort_values()[:10]"
   ]
  },
  {
   "cell_type": "code",
   "execution_count": 261,
   "metadata": {},
   "outputs": [
    {
     "data": {
      "image/png": "[encoded data removed]",
      "text/plain": [
       "<Figure size 432x288 with 1 Axes>"
      ]
     },
     "metadata": {
      "needs_background": "light"
     },
     "output_type": "display_data"
    }
   ],
   "source": [
    "negativity.plot(kind='barh')\n",
    "; "
   ]
  },
  {
   "cell_type": "code",
   "execution_count": 333,
   "metadata": {},
   "outputs": [],
   "source": [
    "df_sentiment =sentiment_grouped.reset_index()\n",
    "df_sentiment.month =df_sentiment.month.astype(int)\n",
    "\n",
    "df_monthly_series = monthly_series.reset_index()\n",
    "df_monthly_series.columns = ['Month', 'Number of Movies']"
   ]
  },
  {
   "cell_type": "code",
   "execution_count": 355,
   "metadata": {},
   "outputs": [
    {
     "data": {
      "image/png": "[encoded data removed]",
      "text/plain": [
       "<Figure size 864x432 with 2 Axes>"
      ]
     },
     "metadata": {
      "needs_background": "light"
     },
     "output_type": "display_data"
    }
   ],
   "source": [
    "# Plot monthly release and sentiment value on the same plot\\\n",
    "# Convert monthly_series back to dataframe\n",
    "monthl_number_df = monthly_series.reset_index()\n",
    "\n",
    "# ax1 = sns.set_style(style=None, rc=None )\n",
    "\n",
    "fig, ax1 = plt.subplots(figsize=(12,6))\n",
    "sns.barplot(data = df_monthly_series, x='Month', y='Number of Movies', alpha=0.5, ax=ax1)\n",
    "ax1.set_xlabel(f'Month', size = 12)\n",
    "ax2 = ax1.twinx()\n",
    "ax2.set_ylabel('Mean Sentiment Score')\n",
    "ax2.legend('A simple line')\n",
    "\n",
    "sns.lineplot(data = df_sentiment['sentiment'], marker='o', sort = False, ax=ax2);\n"
   ]
  },
  {
   "cell_type": "code",
   "execution_count": 297,
   "metadata": {},
   "outputs": [
    {
     "data": {
      "text/html": [
       "<div>\n",
       "<style scoped>\n",
       "    .dataframe tbody tr th:only-of-type {\n",
       "        vertical-align: middle;\n",
       "    }\n",
       "\n",
       "    .dataframe tbody tr th {\n",
       "        vertical-align: top;\n",
       "    }\n",
       "\n",
       "    .dataframe thead th {\n",
       "        text-align: right;\n",
       "    }\n",
       "</style>\n",
       "<table border=\"1\" class=\"dataframe\">\n",
       "  <thead>\n",
       "    <tr style=\"text-align: right;\">\n",
       "      <th></th>\n",
       "      <th>0</th>\n",
       "      <th>id</th>\n",
       "      <th>month</th>\n",
       "    </tr>\n",
       "  </thead>\n",
       "  <tbody>\n",
       "    <tr>\n",
       "      <th>The Stranger (Seattle, WA)</th>\n",
       "      <td>-0.9344</td>\n",
       "      <td>NaN</td>\n",
       "      <td>NaN</td>\n",
       "    </tr>\n",
       "    <tr>\n",
       "      <th>Chicago Tribune</th>\n",
       "      <td>-0.9300</td>\n",
       "      <td>NaN</td>\n",
       "      <td>NaN</td>\n",
       "    </tr>\n",
       "    <tr>\n",
       "      <th>Daily Dead</th>\n",
       "      <td>-0.8910</td>\n",
       "      <td>NaN</td>\n",
       "      <td>NaN</td>\n",
       "    </tr>\n",
       "    <tr>\n",
       "      <th>Sacramento News &amp;amp; Review</th>\n",
       "      <td>-0.8481</td>\n",
       "      <td>NaN</td>\n",
       "      <td>NaN</td>\n",
       "    </tr>\n",
       "    <tr>\n",
       "      <th>Matt's Movie Reviews</th>\n",
       "      <td>-0.6908</td>\n",
       "      <td>NaN</td>\n",
       "      <td>NaN</td>\n",
       "    </tr>\n",
       "    <tr>\n",
       "      <th>Popoptiq</th>\n",
       "      <td>-0.6486</td>\n",
       "      <td>NaN</td>\n",
       "      <td>NaN</td>\n",
       "    </tr>\n",
       "    <tr>\n",
       "      <th>Times-Picayune</th>\n",
       "      <td>-0.6305</td>\n",
       "      <td>NaN</td>\n",
       "      <td>NaN</td>\n",
       "    </tr>\n",
       "    <tr>\n",
       "      <th>The Digital Fix</th>\n",
       "      <td>-0.5574</td>\n",
       "      <td>NaN</td>\n",
       "      <td>NaN</td>\n",
       "    </tr>\n",
       "    <tr>\n",
       "      <th>Scene-Stealers.com</th>\n",
       "      <td>-0.5423</td>\n",
       "      <td>NaN</td>\n",
       "      <td>NaN</td>\n",
       "    </tr>\n",
       "    <tr>\n",
       "      <th>Flicks.co.nz</th>\n",
       "      <td>-0.5334</td>\n",
       "      <td>NaN</td>\n",
       "      <td>NaN</td>\n",
       "    </tr>\n",
       "    <tr>\n",
       "      <th>0</th>\n",
       "      <td>NaN</td>\n",
       "      <td>3274.0</td>\n",
       "      <td>01</td>\n",
       "    </tr>\n",
       "    <tr>\n",
       "      <th>1</th>\n",
       "      <td>NaN</td>\n",
       "      <td>1770.0</td>\n",
       "      <td>02</td>\n",
       "    </tr>\n",
       "    <tr>\n",
       "      <th>2</th>\n",
       "      <td>NaN</td>\n",
       "      <td>2604.0</td>\n",
       "      <td>03</td>\n",
       "    </tr>\n",
       "    <tr>\n",
       "      <th>3</th>\n",
       "      <td>NaN</td>\n",
       "      <td>2743.0</td>\n",
       "      <td>04</td>\n",
       "    </tr>\n",
       "    <tr>\n",
       "      <th>4</th>\n",
       "      <td>NaN</td>\n",
       "      <td>2019.0</td>\n",
       "      <td>05</td>\n",
       "    </tr>\n",
       "    <tr>\n",
       "      <th>5</th>\n",
       "      <td>NaN</td>\n",
       "      <td>2322.0</td>\n",
       "      <td>06</td>\n",
       "    </tr>\n",
       "    <tr>\n",
       "      <th>6</th>\n",
       "      <td>NaN</td>\n",
       "      <td>1662.0</td>\n",
       "      <td>07</td>\n",
       "    </tr>\n",
       "    <tr>\n",
       "      <th>7</th>\n",
       "      <td>NaN</td>\n",
       "      <td>1873.0</td>\n",
       "      <td>08</td>\n",
       "    </tr>\n",
       "    <tr>\n",
       "      <th>8</th>\n",
       "      <td>NaN</td>\n",
       "      <td>2451.0</td>\n",
       "      <td>09</td>\n",
       "    </tr>\n",
       "    <tr>\n",
       "      <th>9</th>\n",
       "      <td>NaN</td>\n",
       "      <td>3220.0</td>\n",
       "      <td>10</td>\n",
       "    </tr>\n",
       "    <tr>\n",
       "      <th>10</th>\n",
       "      <td>NaN</td>\n",
       "      <td>2503.0</td>\n",
       "      <td>11</td>\n",
       "    </tr>\n",
       "    <tr>\n",
       "      <th>11</th>\n",
       "      <td>NaN</td>\n",
       "      <td>2204.0</td>\n",
       "      <td>12</td>\n",
       "    </tr>\n",
       "  </tbody>\n",
       "</table>\n",
       "</div>"
      ],
      "text/plain": [
       "                                   0      id month\n",
       "The Stranger (Seattle, WA)   -0.9344     NaN   NaN\n",
       "Chicago Tribune              -0.9300     NaN   NaN\n",
       "Daily Dead                   -0.8910     NaN   NaN\n",
       "Sacramento News &amp; Review -0.8481     NaN   NaN\n",
       "Matt's Movie Reviews         -0.6908     NaN   NaN\n",
       "Popoptiq                     -0.6486     NaN   NaN\n",
       "Times-Picayune               -0.6305     NaN   NaN\n",
       "The Digital Fix              -0.5574     NaN   NaN\n",
       "Scene-Stealers.com           -0.5423     NaN   NaN\n",
       "Flicks.co.nz                 -0.5334     NaN   NaN\n",
       "0                                NaN  3274.0    01\n",
       "1                                NaN  1770.0    02\n",
       "2                                NaN  2604.0    03\n",
       "3                                NaN  2743.0    04\n",
       "4                                NaN  2019.0    05\n",
       "5                                NaN  2322.0    06\n",
       "6                                NaN  1662.0    07\n",
       "7                                NaN  1873.0    08\n",
       "8                                NaN  2451.0    09\n",
       "9                                NaN  3220.0    10\n",
       "10                               NaN  2503.0    11\n",
       "11                               NaN  2204.0    12"
      ]
     },
     "execution_count": 297,
     "metadata": {},
     "output_type": "execute_result"
    }
   ],
   "source": [
    "negativity.append(monthl_number_df)"
   ]
  },
  {
   "cell_type": "code",
   "execution_count": null,
   "metadata": {},
   "outputs": [],
   "source": [
    "# Create a graph of category and time"
   ]
  }
 ],
 "metadata": {
  "kernelspec": {
   "display_name": "Python 3",
   "language": "python",
   "name": "python3"
  },
  "language_info": {
   "codemirror_mode": {
    "name": "ipython",
    "version": 3
   },
   "file_extension": ".py",
   "mimetype": "text/x-python",
   "name": "python",
   "nbconvert_exporter": "python",
   "pygments_lexer": "ipython3",
   "version": "3.6.9"
  }
 },
 "nbformat": 4,
 "nbformat_minor": 4
}
