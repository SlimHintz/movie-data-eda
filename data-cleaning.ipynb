{
 "cells": [
  {
   "cell_type": "code",
   "execution_count": 2,
   "metadata": {},
   "outputs": [],
   "source": [
    "import pandas as pd\n",
    "import sqlite3 \n",
    "import matplotlib.pyplot as plt\n",
    "import seaborn as sns\n",
    "import numpy as np\n",
    "import re\n",
    "from warnings import filterwarnings\n",
    "# Pandas will give a lot of warning while I am mutating data frames in functions.\n",
    "filterwarnings('ignore')\n",
    "# Matplot lib inline\n",
    "%matplotlib inline"
   ]
  },
  {
   "cell_type": "markdown",
   "metadata": {},
   "source": [
    "### Choice of data and goal\n",
    "- Data frames come from the same website so I can join on the column tconst with no lost observation other than\n",
    "    differences dataframe length\n",
    "- I want to create a dataframe that tags each observation with the genre that is in it's genre list\n",
    "- Once I have merged, cleaned and added the genre boolean columns I will do rating by genre of recent years and \n",
    "    sufficently high vote count to convince me the findings are valid\n"
   ]
  },
  {
   "cell_type": "code",
   "execution_count": 3,
   "metadata": {},
   "outputs": [
    {
     "name": "stdout",
     "output_type": "stream",
     "text": [
      "df_title has a shape of (146144, 6) and df_ratings has a shape of (73856, 3)\n"
     ]
    }
   ],
   "source": [
    "df_title = pd.read_csv('./zippedData/imdb.title.basics.csv.gz')\n",
    "df_ratings = pd.read_csv('./zippedData/imdb.title.ratings.csv.gz')\n",
    "print(f'df_title has a shape of {df_title.shape} and df_ratings has a shape of {df_ratings.shape}')"
   ]
  },
  {
   "cell_type": "code",
   "execution_count": 4,
   "metadata": {},
   "outputs": [
    {
     "name": "stdout",
     "output_type": "stream",
     "text": [
      "df_merge has a shape of (73856, 8)\n"
     ]
    }
   ],
   "source": [
    "# merge the two data sets on tconst:\n",
    "df_merge = df_title.merge(df_ratings, on='tconst', how='inner')\n",
    "print(f'df_merge has a shape of {df_merge.shape}')"
   ]
  },
  {
   "cell_type": "code",
   "execution_count": 5,
   "metadata": {},
   "outputs": [
    {
     "data": {
      "text/html": [
       "<div>\n",
       "<style scoped>\n",
       "    .dataframe tbody tr th:only-of-type {\n",
       "        vertical-align: middle;\n",
       "    }\n",
       "\n",
       "    .dataframe tbody tr th {\n",
       "        vertical-align: top;\n",
       "    }\n",
       "\n",
       "    .dataframe thead th {\n",
       "        text-align: right;\n",
       "    }\n",
       "</style>\n",
       "<table border=\"1\" class=\"dataframe\">\n",
       "  <thead>\n",
       "    <tr style=\"text-align: right;\">\n",
       "      <th></th>\n",
       "      <th>tconst</th>\n",
       "      <th>primary_title</th>\n",
       "      <th>original_title</th>\n",
       "      <th>start_year</th>\n",
       "      <th>runtime_minutes</th>\n",
       "      <th>genres</th>\n",
       "      <th>averagerating</th>\n",
       "      <th>numvotes</th>\n",
       "    </tr>\n",
       "  </thead>\n",
       "  <tbody>\n",
       "    <tr>\n",
       "      <th>0</th>\n",
       "      <td>tt0063540</td>\n",
       "      <td>Sunghursh</td>\n",
       "      <td>Sunghursh</td>\n",
       "      <td>2013</td>\n",
       "      <td>175.0</td>\n",
       "      <td>Action,Crime,Drama</td>\n",
       "      <td>7.0</td>\n",
       "      <td>77</td>\n",
       "    </tr>\n",
       "    <tr>\n",
       "      <th>1</th>\n",
       "      <td>tt0066787</td>\n",
       "      <td>One Day Before the Rainy Season</td>\n",
       "      <td>Ashad Ka Ek Din</td>\n",
       "      <td>2019</td>\n",
       "      <td>114.0</td>\n",
       "      <td>Biography,Drama</td>\n",
       "      <td>7.2</td>\n",
       "      <td>43</td>\n",
       "    </tr>\n",
       "    <tr>\n",
       "      <th>2</th>\n",
       "      <td>tt0069049</td>\n",
       "      <td>The Other Side of the Wind</td>\n",
       "      <td>The Other Side of the Wind</td>\n",
       "      <td>2018</td>\n",
       "      <td>122.0</td>\n",
       "      <td>Drama</td>\n",
       "      <td>6.9</td>\n",
       "      <td>4517</td>\n",
       "    </tr>\n",
       "  </tbody>\n",
       "</table>\n",
       "</div>"
      ],
      "text/plain": [
       "      tconst                    primary_title              original_title  \\\n",
       "0  tt0063540                        Sunghursh                   Sunghursh   \n",
       "1  tt0066787  One Day Before the Rainy Season             Ashad Ka Ek Din   \n",
       "2  tt0069049       The Other Side of the Wind  The Other Side of the Wind   \n",
       "\n",
       "   start_year  runtime_minutes              genres  averagerating  numvotes  \n",
       "0        2013            175.0  Action,Crime,Drama            7.0        77  \n",
       "1        2019            114.0     Biography,Drama            7.2        43  \n",
       "2        2018            122.0               Drama            6.9      4517  "
      ]
     },
     "execution_count": 5,
     "metadata": {},
     "output_type": "execute_result"
    }
   ],
   "source": [
    "df_merge.head(3)"
   ]
  },
  {
   "cell_type": "markdown",
   "metadata": {},
   "source": [
    "#### From the head and info of the dataframe, we can see that the genres is in string form, we want it as a list\n",
    "\n",
    "Once we have the string as a list of genres, we can create a superlist of all genres and take the set of that list. So let's do that next."
   ]
  },
  {
   "cell_type": "code",
   "execution_count": 6,
   "metadata": {},
   "outputs": [
    {
     "name": "stdout",
     "output_type": "stream",
     "text": [
      "['Comedy', 'Action', 'Documentary', 'Sport', 'Musical', 'Adult', 'Animation', 'Romance', 'News', 'Game-Show', 'Fantasy', 'Horror', 'History', 'Biography', 'Drama', 'Music', 'Sci-Fi', 'Thriller', 'Adventure', 'Reality-TV', 'Short', 'Family', 'Crime', 'Western', 'Mystery', 'War']\n"
     ]
    }
   ],
   "source": [
    "# remove all none values from the genre\n",
    "def remove_null_genre(df):\n",
    "    return df[df.genres.notnull()]\n",
    "df = remove_null_genre(df_merge)\n",
    "\n",
    "# coerce the genres to a list\n",
    "df['genres'] = df.genres.apply(lambda x: x.split(','))\n",
    "\n",
    "# generate a genre set of all genres present in the df\n",
    "def genre_set_list(df):\n",
    "    all_genres = list(df.genres)\n",
    "    return list(set([item for sublist in all_genres for item in sublist]))\n",
    "\n",
    "genre_List=(genre_set_list(df))\n",
    "print(genre_List)"
   ]
  },
  {
   "cell_type": "markdown",
   "metadata": {},
   "source": [
    "Now I need a function that takes a dataframe and adds to it a boolean series for each genre in the genre_List"
   ]
  },
  {
   "cell_type": "code",
   "execution_count": 7,
   "metadata": {},
   "outputs": [],
   "source": [
    "def create_boolean_series(series, genre):\n",
    "        return [genre in genres for genres in series]\n",
    "#function to append the series to a dataframe\n",
    "def genre_list_to_series(df, L, genre):\n",
    "    df[genre] = L \n",
    "    \n",
    "def generate_genre_dataframe(df):\n",
    "    # generate the list of genres\n",
    "    L = genre_set_list(df)\n",
    "    # Loops through the list of genres\n",
    "    for genre in L:\n",
    "        # Create a boolean series for each genre\n",
    "        boolean_series = create_boolean_series(df.genres,genre)\n",
    "        # Append that genre to the dataframe\n",
    "        genre_list_to_series(df, boolean_series, genre)\n",
    "    return df"
   ]
  },
  {
   "cell_type": "markdown",
   "metadata": {},
   "source": [
    "#### Creating a dataframe template to append the genre columns onto\n",
    "\n",
    "Now that we have all of our functions defined and working, we need to create a scaffold dataframe that we can append the genre columns to. For the purposes of our business question, we want to know what genre's are popular recently, so we will filter out all years before 2000 and because 2020 is 1) not over and 2) an anomoly we will not include it in our data frame.\n",
    "\n",
    "In addition, we want movies that are truly popular for our analysis. Let's look at the median and mean number of votes most movies recieve"
   ]
  },
  {
   "cell_type": "code",
   "execution_count": 9,
   "metadata": {},
   "outputs": [
    {
     "name": "stdout",
     "output_type": "stream",
     "text": [
      "3562.1726304550184 50.0\n"
     ]
    }
   ],
   "source": [
    "print(df.numvotes.mean(), df.numvotes.median())"
   ]
  },
  {
   "cell_type": "code",
   "execution_count": 30,
   "metadata": {},
   "outputs": [
    {
     "data": {
      "image/png": "[encoded data removed]",
      "text/plain": [
       "<Figure size 432x288 with 1 Axes>"
      ]
     },
     "metadata": {
      "needs_background": "light"
     },
     "output_type": "display_data"
    }
   ],
   "source": [
    "# Cleary the data is heavily influenced by less than 100,000 votes\n",
    "plt.hist(df[df.numvotes>1000].numvotes, bins=10);"
   ]
  },
  {
   "cell_type": "markdown",
   "metadata": {},
   "source": [
    "It seems like 10000 votes is a fair cut off for a movie to be considered popular."
   ]
  },
  {
   "cell_type": "code",
   "execution_count": 28,
   "metadata": {},
   "outputs": [],
   "source": [
    "# Create a data frame containing only data released since the year 2000 and before 2020 with atleast 1000 voties\n",
    "df_scaffold = df[(df.start_year>2000)&(df.start_year<2020) & (df.numvotes > 1000)]"
   ]
  },
  {
   "cell_type": "code",
   "execution_count": 29,
   "metadata": {},
   "outputs": [
    {
     "data": {
      "text/plain": [
       "9609"
      ]
     },
     "execution_count": 29,
     "metadata": {},
     "output_type": "execute_result"
    }
   ],
   "source": [
    "len(df_scaffold)"
   ]
  },
  {
   "cell_type": "code",
   "execution_count": 32,
   "metadata": {},
   "outputs": [],
   "source": [
    "# choice of column for the data frames\n",
    "df_scaffold = df_scaffold[['tconst',\n",
    "                           'primary_title', \n",
    "                           'genres', \n",
    "                           'numvotes', \n",
    "                           'averagerating',\n",
    "                           'start_year', \n",
    "                           'runtime_minutes']]"
   ]
  },
  {
   "cell_type": "code",
   "execution_count": 34,
   "metadata": {},
   "outputs": [],
   "source": [
    "df_genre = generate_genre_dataframe(df_scaffold)"
   ]
  },
  {
   "cell_type": "code",
   "execution_count": 36,
   "metadata": {},
   "outputs": [
    {
     "data": {
      "text/html": [
       "<div>\n",
       "<style scoped>\n",
       "    .dataframe tbody tr th:only-of-type {\n",
       "        vertical-align: middle;\n",
       "    }\n",
       "\n",
       "    .dataframe tbody tr th {\n",
       "        vertical-align: top;\n",
       "    }\n",
       "\n",
       "    .dataframe thead th {\n",
       "        text-align: right;\n",
       "    }\n",
       "</style>\n",
       "<table border=\"1\" class=\"dataframe\">\n",
       "  <thead>\n",
       "    <tr style=\"text-align: right;\">\n",
       "      <th></th>\n",
       "      <th>tconst</th>\n",
       "      <th>primary_title</th>\n",
       "      <th>genres</th>\n",
       "      <th>numvotes</th>\n",
       "      <th>averagerating</th>\n",
       "      <th>start_year</th>\n",
       "      <th>runtime_minutes</th>\n",
       "      <th>Comedy</th>\n",
       "      <th>Action</th>\n",
       "      <th>Documentary</th>\n",
       "      <th>...</th>\n",
       "      <th>Drama</th>\n",
       "      <th>Music</th>\n",
       "      <th>Sci-Fi</th>\n",
       "      <th>Thriller</th>\n",
       "      <th>Adventure</th>\n",
       "      <th>Family</th>\n",
       "      <th>Crime</th>\n",
       "      <th>Western</th>\n",
       "      <th>Mystery</th>\n",
       "      <th>War</th>\n",
       "    </tr>\n",
       "  </thead>\n",
       "  <tbody>\n",
       "    <tr>\n",
       "      <th>2</th>\n",
       "      <td>tt0069049</td>\n",
       "      <td>The Other Side of the Wind</td>\n",
       "      <td>[Drama]</td>\n",
       "      <td>4517</td>\n",
       "      <td>6.9</td>\n",
       "      <td>2018</td>\n",
       "      <td>122.0</td>\n",
       "      <td>False</td>\n",
       "      <td>False</td>\n",
       "      <td>False</td>\n",
       "      <td>...</td>\n",
       "      <td>True</td>\n",
       "      <td>False</td>\n",
       "      <td>False</td>\n",
       "      <td>False</td>\n",
       "      <td>False</td>\n",
       "      <td>False</td>\n",
       "      <td>False</td>\n",
       "      <td>False</td>\n",
       "      <td>False</td>\n",
       "      <td>False</td>\n",
       "    </tr>\n",
       "    <tr>\n",
       "      <th>16</th>\n",
       "      <td>tt0249516</td>\n",
       "      <td>Foodfight!</td>\n",
       "      <td>[Action, Animation, Comedy]</td>\n",
       "      <td>8248</td>\n",
       "      <td>1.9</td>\n",
       "      <td>2012</td>\n",
       "      <td>91.0</td>\n",
       "      <td>True</td>\n",
       "      <td>True</td>\n",
       "      <td>False</td>\n",
       "      <td>...</td>\n",
       "      <td>False</td>\n",
       "      <td>False</td>\n",
       "      <td>False</td>\n",
       "      <td>False</td>\n",
       "      <td>False</td>\n",
       "      <td>False</td>\n",
       "      <td>False</td>\n",
       "      <td>False</td>\n",
       "      <td>False</td>\n",
       "      <td>False</td>\n",
       "    </tr>\n",
       "    <tr>\n",
       "      <th>27</th>\n",
       "      <td>tt0293069</td>\n",
       "      <td>Dark Blood</td>\n",
       "      <td>[Thriller]</td>\n",
       "      <td>1053</td>\n",
       "      <td>6.6</td>\n",
       "      <td>2012</td>\n",
       "      <td>86.0</td>\n",
       "      <td>False</td>\n",
       "      <td>False</td>\n",
       "      <td>False</td>\n",
       "      <td>...</td>\n",
       "      <td>False</td>\n",
       "      <td>False</td>\n",
       "      <td>False</td>\n",
       "      <td>True</td>\n",
       "      <td>False</td>\n",
       "      <td>False</td>\n",
       "      <td>False</td>\n",
       "      <td>False</td>\n",
       "      <td>False</td>\n",
       "      <td>False</td>\n",
       "    </tr>\n",
       "    <tr>\n",
       "      <th>31</th>\n",
       "      <td>tt0315642</td>\n",
       "      <td>Wazir</td>\n",
       "      <td>[Action, Crime, Drama]</td>\n",
       "      <td>15378</td>\n",
       "      <td>7.1</td>\n",
       "      <td>2016</td>\n",
       "      <td>103.0</td>\n",
       "      <td>False</td>\n",
       "      <td>True</td>\n",
       "      <td>False</td>\n",
       "      <td>...</td>\n",
       "      <td>True</td>\n",
       "      <td>False</td>\n",
       "      <td>False</td>\n",
       "      <td>False</td>\n",
       "      <td>False</td>\n",
       "      <td>False</td>\n",
       "      <td>True</td>\n",
       "      <td>False</td>\n",
       "      <td>False</td>\n",
       "      <td>False</td>\n",
       "    </tr>\n",
       "    <tr>\n",
       "      <th>32</th>\n",
       "      <td>tt0323808</td>\n",
       "      <td>The Wicker Tree</td>\n",
       "      <td>[Drama, Horror]</td>\n",
       "      <td>2328</td>\n",
       "      <td>3.9</td>\n",
       "      <td>2011</td>\n",
       "      <td>96.0</td>\n",
       "      <td>False</td>\n",
       "      <td>False</td>\n",
       "      <td>False</td>\n",
       "      <td>...</td>\n",
       "      <td>True</td>\n",
       "      <td>False</td>\n",
       "      <td>False</td>\n",
       "      <td>False</td>\n",
       "      <td>False</td>\n",
       "      <td>False</td>\n",
       "      <td>False</td>\n",
       "      <td>False</td>\n",
       "      <td>False</td>\n",
       "      <td>False</td>\n",
       "    </tr>\n",
       "  </tbody>\n",
       "</table>\n",
       "<p>5 rows × 30 columns</p>\n",
       "</div>"
      ],
      "text/plain": [
       "       tconst               primary_title                       genres  \\\n",
       "2   tt0069049  The Other Side of the Wind                      [Drama]   \n",
       "16  tt0249516                  Foodfight!  [Action, Animation, Comedy]   \n",
       "27  tt0293069                  Dark Blood                   [Thriller]   \n",
       "31  tt0315642                       Wazir       [Action, Crime, Drama]   \n",
       "32  tt0323808             The Wicker Tree              [Drama, Horror]   \n",
       "\n",
       "    numvotes  averagerating  start_year  runtime_minutes  Comedy  Action  \\\n",
       "2       4517            6.9        2018            122.0   False   False   \n",
       "16      8248            1.9        2012             91.0    True    True   \n",
       "27      1053            6.6        2012             86.0   False   False   \n",
       "31     15378            7.1        2016            103.0   False    True   \n",
       "32      2328            3.9        2011             96.0   False   False   \n",
       "\n",
       "    Documentary  ...  Drama  Music  Sci-Fi  Thriller  Adventure  Family  \\\n",
       "2         False  ...   True  False   False     False      False   False   \n",
       "16        False  ...  False  False   False     False      False   False   \n",
       "27        False  ...  False  False   False      True      False   False   \n",
       "31        False  ...   True  False   False     False      False   False   \n",
       "32        False  ...   True  False   False     False      False   False   \n",
       "\n",
       "    Crime  Western  Mystery    War  \n",
       "2   False    False    False  False  \n",
       "16  False    False    False  False  \n",
       "27  False    False    False  False  \n",
       "31   True    False    False  False  \n",
       "32  False    False    False  False  \n",
       "\n",
       "[5 rows x 30 columns]"
      ]
     },
     "execution_count": 36,
     "metadata": {},
     "output_type": "execute_result"
    }
   ],
   "source": [
    "df_genre.head()"
   ]
  },
  {
   "cell_type": "code",
   "execution_count": 38,
   "metadata": {},
   "outputs": [
    {
     "data": {
      "text/plain": [
       "(9609, 30)"
      ]
     },
     "execution_count": 38,
     "metadata": {},
     "output_type": "execute_result"
    }
   ],
   "source": [
    "df_genre.shape"
   ]
  },
  {
   "cell_type": "markdown",
   "metadata": {},
   "source": [
    "Perfect! We know have exactly what we want. To quickly test the data to check that it is usable lets create a dummy visualisation of average vote in each genre."
   ]
  },
  {
   "cell_type": "code",
   "execution_count": 39,
   "metadata": {},
   "outputs": [],
   "source": [
    "# Generate a plot based on the features of the genre list\n",
    "def genre_dict_mean(df, feature, genre_list):\n",
    "    genre_list = genre_set_list(df)\n",
    "    feature_dict = {}\n",
    "    for genre in genre_list:\n",
    "        feature_dict.update({genre:df[df[f'{genre}'] == True][f'{feature}'].mean()})\n",
    "        # Sort dictionary by value\n",
    "    return {k: v for k, v in sorted(feature_dict.items(), key=lambda item: item[1],reverse=True)}\n",
    "    "
   ]
  },
  {
   "cell_type": "code",
   "execution_count": 47,
   "metadata": {},
   "outputs": [
    {
     "ename": "TypeError",
     "evalue": "xlabel() missing 1 required positional argument: 'xlabel'",
     "output_type": "error",
     "traceback": [
      "\u001b[0;31m---------------------------------------------------------------------------\u001b[0m",
      "\u001b[0;31mTypeError\u001b[0m                                 Traceback (most recent call last)",
      "\u001b[0;32m<ipython-input-47-4832e4b4da64>\u001b[0m in \u001b[0;36m<module>\u001b[0;34m()\u001b[0m\n\u001b[1;32m      4\u001b[0m \u001b[0mdf_foo\u001b[0m \u001b[0;34m=\u001b[0m \u001b[0mpd\u001b[0m\u001b[0;34m.\u001b[0m\u001b[0mDataFrame\u001b[0m\u001b[0;34m.\u001b[0m\u001b[0mfrom_dict\u001b[0m\u001b[0;34m(\u001b[0m\u001b[0mfoo\u001b[0m\u001b[0;34m,\u001b[0m \u001b[0morient\u001b[0m\u001b[0;34m=\u001b[0m\u001b[0;34m'index'\u001b[0m\u001b[0;34m)\u001b[0m\u001b[0;34m\u001b[0m\u001b[0;34m\u001b[0m\u001b[0m\n\u001b[1;32m      5\u001b[0m \u001b[0mdf_foo\u001b[0m\u001b[0;34m.\u001b[0m\u001b[0mplot\u001b[0m\u001b[0;34m(\u001b[0m\u001b[0mkind\u001b[0m\u001b[0;34m=\u001b[0m\u001b[0;34m'bar'\u001b[0m\u001b[0;34m,\u001b[0m \u001b[0mfigsize\u001b[0m\u001b[0;34m=\u001b[0m\u001b[0;34m(\u001b[0m\u001b[0;36m10\u001b[0m\u001b[0;34m,\u001b[0m\u001b[0;36m5\u001b[0m\u001b[0;34m)\u001b[0m\u001b[0;34m,\u001b[0m \u001b[0mtitle\u001b[0m\u001b[0;34m=\u001b[0m\u001b[0;34m'Average Rating By Genre For Movies Released Since 2020'\u001b[0m\u001b[0;34m,\u001b[0m \u001b[0mlegend\u001b[0m\u001b[0;34m=\u001b[0m\u001b[0;32mFalse\u001b[0m\u001b[0;34m)\u001b[0m\u001b[0;34m\u001b[0m\u001b[0;34m\u001b[0m\u001b[0m\n\u001b[0;32m----> 6\u001b[0;31m \u001b[0mplt\u001b[0m\u001b[0;34m.\u001b[0m\u001b[0mxlabel\u001b[0m\u001b[0;34m(\u001b[0m\u001b[0mrotation\u001b[0m\u001b[0;34m=\u001b[0m\u001b[0;36m45\u001b[0m\u001b[0;34m)\u001b[0m\u001b[0;34m;\u001b[0m\u001b[0;34m\u001b[0m\u001b[0;34m\u001b[0m\u001b[0m\n\u001b[0m",
      "\u001b[0;31mTypeError\u001b[0m: xlabel() missing 1 required positional argument: 'xlabel'"
     ]
    },
    {
     "data": {
      "image/png": "[encoded data removed]",
      "text/plain": [
       "<Figure size 720x360 with 1 Axes>"
      ]
     },
     "metadata": {
      "needs_background": "light"
     },
     "output_type": "display_data"
    }
   ],
   "source": [
    "# Select the mean for the averagerating accross genres\n",
    "foo = genre_dict_mean(df_genre, 'averagerating', genre_set_list(df_genre))\n",
    "# Convert the dictionary into a data frame\n",
    "df_foo = pd.DataFrame.from_dict(foo, orient='index')\n",
    "df_foo.plot(kind='bar', figsize=(10,5), title='Average Rating By Genre For Movies Released Since 2020', legend=False)\n",
    "plt.xlabel(rotation=45);"
   ]
  },
  {
   "cell_type": "code",
   "execution_count": null,
   "metadata": {},
   "outputs": [],
   "source": []
  }
 ],
 "metadata": {
  "kernelspec": {
   "display_name": "learn-env",
   "language": "python",
   "name": "learn-env"
  }
 },
 "nbformat": 4,
 "nbformat_minor": 4
}
